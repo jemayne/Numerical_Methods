{
  "nbformat": 4,
  "nbformat_minor": 0,
  "metadata": {
    "colab": {
      "name": "Prelim Exam.ipynb",
      "provenance": [],
      "authorship_tag": "ABX9TyNdjR8hGNN9CosEXgiy5+qK",
      "include_colab_link": true
    },
    "kernelspec": {
      "name": "python3",
      "display_name": "Python 3"
    },
    "language_info": {
      "name": "python"
    }
  },
  "cells": [
    {
      "cell_type": "markdown",
      "metadata": {
        "id": "view-in-github",
        "colab_type": "text"
      },
      "source": [
        "<a href=\"https://colab.research.google.com/github/jemayne/Numerical_Methods/blob/main/Prelim_Exam.ipynb\" target=\"_parent\"><img src=\"https://colab.research.google.com/assets/colab-badge.svg\" alt=\"Open In Colab\"/></a>"
      ]
    },
    {
      "cell_type": "markdown",
      "metadata": {
        "id": "yvA8Ifd3OWsy"
      },
      "source": [
        "# **PRELIM EXAM**"
      ]
    },
    {
      "cell_type": "markdown",
      "metadata": {
        "id": "32Loy4JaPYRX"
      },
      "source": [
        "$$\n",
        "A = \\begin{bmatrix} 1,  2, 3\\\\ 2, 3, 3\\\\ 3, 4, -2\\end{bmatrix} \\\\ $$"
      ]
    },
    {
      "cell_type": "code",
      "metadata": {
        "id": "jQzDDVVENuMW"
      },
      "source": [
        "import numpy as np"
      ],
      "execution_count": 1,
      "outputs": []
    },
    {
      "cell_type": "code",
      "metadata": {
        "colab": {
          "base_uri": "https://localhost:8080/"
        },
        "id": "I7UBuwpLRMIx",
        "outputId": "4b414fa9-9381-4d45-ff1b-b917c4a5d2a4"
      },
      "source": [
        "A = np.array([[1, 2, 3],\n",
        "             [2, 3, 3],\n",
        "             [3, 4, -2]]           \n",
        ")\n",
        "\n",
        "ADet = round(np.linalg.det(A))\n",
        "print(ADet)"
      ],
      "execution_count": 8,
      "outputs": [
        {
          "output_type": "stream",
          "name": "stdout",
          "text": [
            "5\n"
          ]
        }
      ]
    }
  ]
}