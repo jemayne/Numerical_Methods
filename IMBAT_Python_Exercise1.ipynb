{
  "nbformat": 4,
  "nbformat_minor": 0,
  "metadata": {
    "colab": {
      "name": "IMBAT_Python-Exercise1.ipynb",
      "provenance": [],
      "collapsed_sections": [],
      "authorship_tag": "ABX9TyPY05T4ijgI+Fr2ozjfend5",
      "include_colab_link": true
    },
    "kernelspec": {
      "name": "python3",
      "display_name": "Python 3"
    },
    "language_info": {
      "name": "python"
    }
  },
  "cells": [
    {
      "cell_type": "markdown",
      "metadata": {
        "id": "view-in-github",
        "colab_type": "text"
      },
      "source": [
        "<a href=\"https://colab.research.google.com/github/jemayne/Numeth/blob/main/IMBAT_Python_Exercise1.ipynb\" target=\"_parent\"><img src=\"https://colab.research.google.com/assets/colab-badge.svg\" alt=\"Open In Colab\"/></a>"
      ]
    },
    {
      "cell_type": "markdown",
      "metadata": {
        "id": "hp3OEyPGd-hl"
      },
      "source": [
        "#Python Exercise 1\n",
        "\n",
        "##Create a program using Python that allows a student to type his/her name, the name of the course, and that computes his/her semestral grade (30% x PG + 30% x MG + 40% x FG)"
      ]
    },
    {
      "cell_type": "code",
      "metadata": {
        "colab": {
          "base_uri": "https://localhost:8080/"
        },
        "id": "_stMBw0pY5cl",
        "outputId": "8dc35b31-2e97-4e83-c8b9-1059af49524f"
      },
      "source": [
        "name = input(\"Student Name: \")\n",
        "course = input(\"Student Course: \")\n",
        "prelim_grade = float(input(\"Prelim Grade: \"))\n",
        "midterm_grade = float(input(\"Midterm Grade: \"))\n",
        "final_grade = float(input(\"Final Grade: \"))\n",
        "\n",
        "average = float(0)\n",
        "average = (prelim_grade*0.3 + midterm_grade*0.3 + final_grade*0.4)\n",
        "\n",
        "print(\"Semestral Grade: {:.2f}\".format(average))"
      ],
      "execution_count": null,
      "outputs": [
        {
          "output_type": "stream",
          "text": [
            "Student Name: Jezra Imbat\n",
            "Student Course: BSCpE\n",
            "Prelim Grade: 94.26\n",
            "Midterm Grade: 87.45\n",
            "Final Grade: 88.12\n",
            "Semestral Grade: 89.76\n"
          ],
          "name": "stdout"
        }
      ]
    }
  ]
}