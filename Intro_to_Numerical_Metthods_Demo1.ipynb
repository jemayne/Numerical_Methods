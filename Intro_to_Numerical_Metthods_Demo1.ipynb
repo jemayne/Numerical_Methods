{
  "nbformat": 4,
  "nbformat_minor": 0,
  "metadata": {
    "colab": {
      "name": "Intro to Numerical Metthods_Demo1.ipynb",
      "provenance": [],
      "authorship_tag": "ABX9TyNpVDQPbEpAxna//xz/mCgs",
      "include_colab_link": true
    },
    "kernelspec": {
      "name": "python3",
      "display_name": "Python 3"
    },
    "language_info": {
      "name": "python"
    }
  },
  "cells": [
    {
      "cell_type": "markdown",
      "metadata": {
        "id": "view-in-github",
        "colab_type": "text"
      },
      "source": [
        "<a href=\"https://colab.research.google.com/github/jemayne/Numeth/blob/main/Intro_to_Numerical_Metthods_Demo1.ipynb\" target=\"_parent\"><img src=\"https://colab.research.google.com/assets/colab-badge.svg\" alt=\"Open In Colab\"/></a>"
      ]
    },
    {
      "cell_type": "markdown",
      "metadata": {
        "id": "GCvk5ITZOJzm"
      },
      "source": [
        "#Introduction to Numerical Methods\n",
        "##Demonstration"
      ]
    },
    {
      "cell_type": "code",
      "metadata": {
        "colab": {
          "base_uri": "https://localhost:8080/"
        },
        "id": "wRZeGj12NZoQ",
        "outputId": "2815ee41-92ed-42dc-d920-657c6699ff66"
      },
      "source": [
        "b = \"Sally\"\n",
        "b = int(4)\n",
        "b = \"John\"\n",
        "print(b)"
      ],
      "execution_count": 4,
      "outputs": [
        {
          "output_type": "stream",
          "text": [
            "John\n"
          ],
          "name": "stdout"
        }
      ]
    },
    {
      "cell_type": "code",
      "metadata": {
        "colab": {
          "base_uri": "https://localhost:8080/"
        },
        "id": "wLG8YDTAP_-O",
        "outputId": "9cd292f1-90a4-4a81-9624-86ffc70fc2d8"
      },
      "source": [
        "b = \"Sally\"\n",
        "#b = int(4)\n",
        "print(type(b))\n",
        "print(b)"
      ],
      "execution_count": 7,
      "outputs": [
        {
          "output_type": "stream",
          "text": [
            "<class 'str'>\n",
            "Sally\n"
          ],
          "name": "stdout"
        }
      ]
    },
    {
      "cell_type": "code",
      "metadata": {
        "colab": {
          "base_uri": "https://localhost:8080/"
        },
        "id": "sQ_9g8MURutL",
        "outputId": "6b0f5948-72c1-4564-c9ba-c456d292984d"
      },
      "source": [
        "x = \"enjoying\"\n",
        "print(\"Python programming is \" + x)"
      ],
      "execution_count": 9,
      "outputs": [
        {
          "output_type": "stream",
          "text": [
            "Python programming is enjoying\n"
          ],
          "name": "stdout"
        }
      ]
    },
    {
      "cell_type": "code",
      "metadata": {
        "colab": {
          "base_uri": "https://localhost:8080/"
        },
        "id": "SykieGcXSw1y",
        "outputId": "998ebec3-3b90-498d-92d4-5833509b0289"
      },
      "source": [
        "x = \"enjoying\"\n",
        "y = \"Python programming is \"\n",
        "z = y + x\n",
        "print(z)"
      ],
      "execution_count": 12,
      "outputs": [
        {
          "output_type": "stream",
          "text": [
            "Python programming is enjoying\n"
          ],
          "name": "stdout"
        }
      ]
    },
    {
      "cell_type": "code",
      "metadata": {
        "colab": {
          "base_uri": "https://localhost:8080/"
        },
        "id": "NG_MkrH3T_PX",
        "outputId": "ef72ec51-a8ce-4c82-b918-33ce59b198ed"
      },
      "source": [
        "a, b, c = 0, -1, 5\n",
        "c%=2    #this will display the ramainder of 6/2, also the same as c = c%2\n",
        "print(c)"
      ],
      "execution_count": 18,
      "outputs": [
        {
          "output_type": "stream",
          "text": [
            "1\n"
          ],
          "name": "stdout"
        }
      ]
    },
    {
      "cell_type": "code",
      "metadata": {
        "colab": {
          "base_uri": "https://localhost:8080/"
        },
        "id": "rMLZcc31UypE",
        "outputId": "0c996aa1-a475-4125-a6fc-0dabab4a4bd6"
      },
      "source": [
        "x = 3\n",
        "y = 5\n",
        "compare = x>3\n",
        "print(compare)"
      ],
      "execution_count": 20,
      "outputs": [
        {
          "output_type": "stream",
          "text": [
            "False\n"
          ],
          "name": "stdout"
        }
      ]
    },
    {
      "cell_type": "code",
      "metadata": {
        "colab": {
          "base_uri": "https://localhost:8080/"
        },
        "id": "ttzNBWGYVWFk",
        "outputId": "07867323-dfac-459c-c931-080a8697a204"
      },
      "source": [
        "x = 3\n",
        "y = 5\n",
        "\n",
        "x>x and y>y"
      ],
      "execution_count": 21,
      "outputs": [
        {
          "output_type": "execute_result",
          "data": {
            "text/plain": [
              "False"
            ]
          },
          "metadata": {},
          "execution_count": 21
        }
      ]
    },
    {
      "cell_type": "code",
      "metadata": {
        "id": "wC9NDRtvWGYT"
      },
      "source": [
        ""
      ],
      "execution_count": null,
      "outputs": []
    }
  ]
}