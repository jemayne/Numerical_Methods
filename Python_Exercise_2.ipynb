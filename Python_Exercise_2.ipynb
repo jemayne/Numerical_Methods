{
  "nbformat": 4,
  "nbformat_minor": 0,
  "metadata": {
    "colab": {
      "name": "Python Exercise 2.ipynb",
      "provenance": [],
      "authorship_tag": "ABX9TyMEudqfutgEyRooQwirvVxN",
      "include_colab_link": true
    },
    "kernelspec": {
      "name": "python3",
      "display_name": "Python 3"
    },
    "language_info": {
      "name": "python"
    }
  },
  "cells": [
    {
      "cell_type": "markdown",
      "metadata": {
        "id": "view-in-github",
        "colab_type": "text"
      },
      "source": [
        "<a href=\"https://colab.research.google.com/github/jemayne/Numeth/blob/main/Python_Exercise_2.ipynb\" target=\"_parent\"><img src=\"https://colab.research.google.com/assets/colab-badge.svg\" alt=\"Open In Colab\"/></a>"
      ]
    },
    {
      "cell_type": "markdown",
      "metadata": {
        "id": "RUMYWj4DalS9"
      },
      "source": [
        "$$\n",
        "A = \\begin{bmatrix} -5, 0\\\\ 4, 1\\end{bmatrix},\n",
        "B = \\begin{bmatrix} 6, -3\\\\ 2, 3\\end{bmatrix}\\\\ $$\n"
      ]
    },
    {
      "cell_type": "code",
      "metadata": {
        "id": "mSIQH9w-afei"
      },
      "source": [
        "import numpy as np\n",
        "\n",
        "A = np.array([[-5, 0],\n",
        "             [4, 1]])\n",
        "B = np.array([[6, -3],\n",
        "             [2, 3]])"
      ],
      "execution_count": 18,
      "outputs": []
    },
    {
      "cell_type": "code",
      "metadata": {
        "colab": {
          "base_uri": "https://localhost:8080/"
        },
        "id": "x7IpzjjKblYZ",
        "outputId": "de403f6e-47f9-42a0-a2de-51c40dcc35e6"
      },
      "source": [
        "sum = A + B\n",
        "print(\"A + B = \\n\", sum)"
      ],
      "execution_count": 19,
      "outputs": [
        {
          "output_type": "stream",
          "name": "stdout",
          "text": [
            "A + B = \n",
            " [[ 1 -3]\n",
            " [ 6  4]]\n"
          ]
        }
      ]
    },
    {
      "cell_type": "code",
      "metadata": {
        "colab": {
          "base_uri": "https://localhost:8080/"
        },
        "id": "hDExCF2Vd8oM",
        "outputId": "9a8748d3-5e01-47a0-8628-71203516f583"
      },
      "source": [
        "difference1 = B - A\n",
        "print(\"B - A = \\n\", difference1)"
      ],
      "execution_count": 20,
      "outputs": [
        {
          "output_type": "stream",
          "name": "stdout",
          "text": [
            "B - A = \n",
            " [[11 -3]\n",
            " [-2  2]]\n"
          ]
        }
      ]
    },
    {
      "cell_type": "code",
      "metadata": {
        "colab": {
          "base_uri": "https://localhost:8080/"
        },
        "id": "nIhm1R6ReEhB",
        "outputId": "28b905df-a8e6-48a9-8b01-1b372cf5c1b1"
      },
      "source": [
        "difference2 = A - B\n",
        "print(\"A - B = \\n\", difference2)"
      ],
      "execution_count": 21,
      "outputs": [
        {
          "output_type": "stream",
          "name": "stdout",
          "text": [
            "A - B = \n",
            " [[-11   3]\n",
            " [  2  -2]]\n"
          ]
        }
      ]
    }
  ]
}